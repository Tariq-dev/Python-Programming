{
 "cells": [
  {
   "cell_type": "code",
   "execution_count": 60,
   "metadata": {},
   "outputs": [
    {
     "name": "stdout",
     "output_type": "stream",
     "text": [
      "Tariq\n",
      "Shafiq\n",
      "Karachi\n",
      "23\n",
      "BE(TE)\n",
      "{'F-Name': 'Tariq', 'L-Name': 'Shafiq', 'City': 'Karachi', 'Age': 23}\n"
     ]
    }
   ],
   "source": [
    "student = { \"F-Name\" : \"Tariq\", \"L-Name\" : \"Shafiq\", \"City\" : \"Karachi\", \"Age\" : 23 }\n",
    "r_student = { \"qualification \" : \"BE(TE)\"}\n",
    "student.update(r_student)\n",
    "\n",
    "for i in student:\n",
    "    print(student[i] )\n",
    "  \n",
    "del student[\"qualification \" ]\n",
    "print(student)"
   ]
  },
  {
   "cell_type": "code",
   "execution_count": 81,
   "metadata": {},
   "outputs": [
    {
     "name": "stdout",
     "output_type": "stream",
     "text": [
      "Information about :  KHI\n",
      " {'country': 'Pakistan', 'population ': ' 230000000', ' quality ': ' loving people'}\n",
      "Information about :  Paris\n",
      " {'country': 'Farance', 'population ': ' 23000000', ' quality ': 'old buildings'}\n",
      "Information about :  Delhi\n",
      " {'country': 'india', 'population ': ' 15000000', ' quality ': 'need to work himself for change mindset'}\n"
     ]
    }
   ],
   "source": [
    "cities = {\"KHI\" : \n",
    "          { \"country\" : \"Pakistan\",\n",
    "           \"population \" : \" 230000000\",\n",
    "           \" quality \" : \" loving people\"}, \n",
    "          \"Paris\" : \n",
    "          { \"country\" : \"Farance\",\n",
    "           \"population \" : \" 23000000\",\n",
    "           \" quality \" : \"old buildings\"},\n",
    "          \"Delhi\" : \n",
    "         { \"country\" : \"india\",\n",
    "           \"population \" : \" 15000000\",\n",
    "           \" quality \" : \"need to work himself for change mindset\"}\n",
    "         }\n",
    "\n",
    "for i in cities :\n",
    "    print(\"Information about : \", i + \"\\n\"  , cities[i])\n",
    "   "
   ]
  },
  {
   "cell_type": "code",
   "execution_count": 94,
   "metadata": {},
   "outputs": [
    {
     "name": "stdout",
     "output_type": "stream",
     "text": [
      "please enter your age : 23\n",
      "your ticket cost just  : 15$ \n"
     ]
    }
   ],
   "source": [
    "a = int(input(\"please enter your age : \"))\n",
    "if a < 3 :\n",
    "    print(\"Enjoy kid your ticket is free \")\n",
    "elif a == 3 and a < 12 :\n",
    "    print(\"your ticket cost just  : 10$ \")\n",
    "else :\n",
    "    print(\"your ticket cost just  : 15$ \")\n",
    "\n",
    "    "
   ]
  },
  {
   "cell_type": "code",
   "execution_count": 93,
   "metadata": {},
   "outputs": [
    {
     "name": "stdout",
     "output_type": "stream",
     "text": [
      "one of my favorite book is Alice in wonderland python programmer\n",
      "None\n"
     ]
    }
   ],
   "source": [
    "def favorite_book(a) :\n",
    "    print(\"one of my favorite book is Alice in wonderland\",a)\n",
    "\n",
    "b = favorite_book(\"python programmer\")\n",
    "print(b)\n",
    "\n",
    "    "
   ]
  },
  {
   "cell_type": "code",
   "execution_count": 115,
   "metadata": {},
   "outputs": [
    {
     "name": "stdout",
     "output_type": "stream",
     "text": [
      "10\n",
      "hint is number between 1 to 30 so now please guess the number  : 13\n",
      "please try again\n",
      "hint is number between 1 to 30 so now please guess the number  : 13\n",
      "please try again\n",
      "hint is number between 1 to 30 so now please guess the number  : 10\n",
      "congratulation your ans is correct \n"
     ]
    }
   ],
   "source": [
    "import random\n",
    "\n",
    "a = random.randint(1,30)\n",
    "print(a)\n",
    "for i in range(3):\n",
    "    b = int(input(\"hint is number in between 1 to 30 so now please guess the number  : \"))\n",
    "    if a == b :\n",
    "        print(\"congratulation your ans is correct \")\n",
    "        break\n",
    "    else:\n",
    "        print(\"please try again\")\n",
    "        \n",
    "\n"
   ]
  },
  {
   "cell_type": "markdown",
   "metadata": {},
   "source": []
  }
 ],
 "metadata": {
  "kernelspec": {
   "display_name": "Python 3",
   "language": "python",
   "name": "python3"
  },
  "language_info": {
   "codemirror_mode": {
    "name": "ipython",
    "version": 3
   },
   "file_extension": ".py",
   "mimetype": "text/x-python",
   "name": "python",
   "nbconvert_exporter": "python",
   "pygments_lexer": "ipython3",
   "version": "3.7.4"
  }
 },
 "nbformat": 4,
 "nbformat_minor": 2
}
