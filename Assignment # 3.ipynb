{
 "cells": [
  {
   "cell_type": "code",
   "execution_count": 14,
   "metadata": {},
   "outputs": [
    {
     "name": "stdout",
     "output_type": "stream",
     "text": [
      "Enter first number3\n",
      "Enter second number12\n",
      "Enter your desired operation**\n",
      "your ans is  531441\n"
     ]
    }
   ],
   "source": [
    "val1 = int(input('Enter first number'))\n",
    "val2 = int(input('Enter second number'))\n",
    "\n",
    "\n",
    "opt = input('Enter your desired operation')\n",
    "\n",
    "if opt == '+' :\n",
    "    ans = val1 + val2\n",
    "    print('your ans is ', ans)\n",
    "elif opt == '-' :\n",
    "    ans = val1 - val2\n",
    "    print('your ans is ', ans)\n",
    "elif opt == '*' :\n",
    "    ans = val1 * val2\n",
    "    print('your ans is ', ans)\n",
    "elif opt == '**' :\n",
    "    ans = val1 ** val2\n",
    "    print('your ans is ', ans)\n",
    "else :\n",
    "    print('your written operation is wrong') \n",
    "    \n",
    "    \n",
    "\n"
   ]
  },
  {
   "cell_type": "code",
   "execution_count": 22,
   "metadata": {},
   "outputs": [
    {
     "name": "stdout",
     "output_type": "stream",
     "text": [
      "we are serching a list hope for the best\n",
      "we are serching a list hope for the best\n",
      "yes numeric value is present 123\n"
     ]
    }
   ],
   "source": [
    "a = [ 'apple','orange','123','banana' ]\n",
    "\n",
    "for a_a in a :\n",
    "    if a_a == '123' :\n",
    "        print ('yes numeric value is present', a_a)\n",
    "        break\n",
    "    else :\n",
    "        print ('we are serching a list hope for the best')\n",
    "        \n",
    "        "
   ]
  },
  {
   "cell_type": "code",
   "execution_count": 40,
   "metadata": {},
   "outputs": [
    {
     "name": "stdout",
     "output_type": "stream",
     "text": [
      "please enter your openion about umair  low\n",
      "{'top': 'Arsalan', 'average': 'imran', 'low': 'umair'}\n"
     ]
    }
   ],
   "source": [
    "customer_rating = {\"top\" : 'Arsalan',\n",
    "            'average' : 'imran' }\n",
    "customer_rating [ input('please enter your openion about umair  ') ] = 'umair'\n",
    "\n",
    "print (customer_rating)\n"
   ]
  },
  {
   "cell_type": "code",
   "execution_count": null,
   "metadata": {},
   "outputs": [],
   "source": []
  },
  {
   "cell_type": "code",
   "execution_count": 87,
   "metadata": {},
   "outputs": [
    {
     "name": "stdout",
     "output_type": "stream",
     "text": [
      "please enter a value as a name for low   Arsalan\n",
      "{'top': 'Arsalan', 'average': 'imran', 'low': 'Arsalan'}\n",
      "your written value is duplicated with our dicionary value\n"
     ]
    }
   ],
   "source": [
    "customer_rating = {\"top\" : 'Arsalan',\n",
    "            'average' : 'imran' }\n",
    "a = input('please enter a value as a name for low   ')\n",
    "customer_rating ['low'] = a\n",
    "\n",
    "print (customer_rating)\n",
    "for a_a in customer_rating.values() :\n",
    "    if a == a_a :\n",
    "        print('your written value is duplicated with our dicionary value')\n",
    "        break\n",
    "    else :\n",
    "        print ('thanks for enter your value for the key of low ')\n",
    "        break\n",
    "        \n",
    "    "
   ]
  },
  {
   "cell_type": "code",
   "execution_count": 102,
   "metadata": {},
   "outputs": [
    {
     "name": "stdout",
     "output_type": "stream",
     "text": [
      "total collection is 600\n"
     ]
    }
   ],
   "source": [
    "donation = { 'arsalan' : 100, 'noman' : 200, 'tariq' : 300 }\n",
    "\n",
    "sum = 0\n",
    "\n",
    "for i in donation.values() :\n",
    "    sum = sum + i\n",
    "    \n",
    "print ('total collection is', sum )\n",
    "    "
   ]
  },
  {
   "cell_type": "code",
   "execution_count": 72,
   "metadata": {},
   "outputs": [
    {
     "name": "stdout",
     "output_type": "stream",
     "text": [
      "please enter your openion about umair  top\n",
      "your written key is already exist in this dicionary as a key\n"
     ]
    }
   ],
   "source": [
    "customer_rating = {\"top\" : 'Arsalan',\n",
    "            'average' : 'imran' }\n",
    "a = input('please enter your openion about umair  ')\n",
    "customer_rating [ a ] = 'umair'\n",
    "\n",
    "for a_a in customer_rating.keys() :\n",
    "    if a == a_a :\n",
    "        print('your written key is already exist in this dicionary as a key')\n",
    "        break\n",
    "    else :\n",
    "        print ('thanks for enter your key for the value of umair ')\n",
    "        break\n"
   ]
  },
  {
   "cell_type": "code",
   "execution_count": null,
   "metadata": {},
   "outputs": [],
   "source": []
  }
 ],
 "metadata": {
  "kernelspec": {
   "display_name": "Python 3",
   "language": "python",
   "name": "python3"
  },
  "language_info": {
   "codemirror_mode": {
    "name": "ipython",
    "version": 3
   },
   "file_extension": ".py",
   "mimetype": "text/x-python",
   "name": "python",
   "nbconvert_exporter": "python",
   "pygments_lexer": "ipython3",
   "version": "3.7.4"
  }
 },
 "nbformat": 4,
 "nbformat_minor": 2
}
