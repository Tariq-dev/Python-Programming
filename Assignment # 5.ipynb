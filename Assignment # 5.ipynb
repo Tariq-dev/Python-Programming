{
 "cells": [
  {
   "cell_type": "code",
   "execution_count": 14,
   "metadata": {},
   "outputs": [
    {
     "name": "stdout",
     "output_type": "stream",
     "text": [
      "0.08333333333333333\n"
     ]
    }
   ],
   "source": [
    "def fraction(a,b):\n",
    "    c = float(a/b)\n",
    "    return c\n",
    "\n",
    "print (fraction(1,12))"
   ]
  },
  {
   "cell_type": "code",
   "execution_count": 30,
   "metadata": {},
   "outputs": [
    {
     "name": "stdout",
     "output_type": "stream",
     "text": [
      "Original String :  Pakistan Zindabad\n",
      "No. of Upper case characters :  2\n",
      "No. of Lower case Characters :  14\n"
     ]
    }
   ],
   "source": [
    "def string_test(s):\n",
    "    d={\"UPPER_CASE\":0, \"LOWER_CASE\":0}\n",
    "    for c in s:\n",
    "        if c.isupper():\n",
    "           d[\"UPPER_CASE\"]+=1\n",
    "        elif c.islower():\n",
    "           d[\"LOWER_CASE\"]+=1\n",
    "        else:\n",
    "           pass\n",
    "    print (\"Original String : \", s)\n",
    "    print (\"No. of Upper case characters : \", d[\"UPPER_CASE\"])\n",
    "    print (\"No. of Lower case Characters : \", d[\"LOWER_CASE\"])\n",
    "\n",
    "string_test('Pakistan Zindabad')"
   ]
  },
  {
   "cell_type": "code",
   "execution_count": 34,
   "metadata": {},
   "outputs": [
    {
     "name": "stdout",
     "output_type": "stream",
     "text": [
      "This is an even number.\n"
     ]
    },
    {
     "data": {
      "text/plain": [
       "2"
      ]
     },
     "execution_count": 34,
     "metadata": {},
     "output_type": "execute_result"
    }
   ],
   "source": [
    "def num_checker(a):\n",
    "    \n",
    "    num = int(a)\n",
    "    mod = num % 2\n",
    "    if mod > 0:\n",
    "        print(\"This is an odd number.\")\n",
    "    else:\n",
    "        print(\"This is an even number.\")\n",
    "    return (a)\n",
    "\n",
    "num_checker(2)"
   ]
  },
  {
   "cell_type": "code",
   "execution_count": null,
   "metadata": {},
   "outputs": [],
   "source": [
    "def my_stra(a):\n",
    "    my_str = str(a)\n",
    "    my_str = my_str.casefold()\n",
    "    rev_str = reversed(my_str)\n",
    "    if list(my_str) == list(rev_str):\n",
    "        print(\"The string is a palindrome.\")\n",
    "    else:\n",
    "        print(\"The string is not a palindrome.\")\n",
    "\n",
    "my_stra(input(\"please enter a name\"))"
   ]
  },
  {
   "cell_type": "code",
   "execution_count": null,
   "metadata": {},
   "outputs": [],
   "source": [
    "def num (num):  \n",
    "  \n",
    "    if num > 1:  \n",
    "        for i in range(2,num):  \n",
    "            if (num % i) == 0:  \n",
    "                print(num,\"is not a prime number\")  \n",
    "                print(i,\"times\",num//i,\"is\",num)  \n",
    "                break  \n",
    "        else:  \n",
    "            print(num,\"is a prime number\")  \n",
    "         \n",
    "    else:  \n",
    "        print(num,\"is not a prime number\")  \n",
    "\n",
    "a = int(input(\"please enter your value\"))\n",
    "num(a)"
   ]
  },
  {
   "cell_type": "code",
   "execution_count": null,
   "metadata": {},
   "outputs": [],
   "source": [
    "\n",
    "def market(*a):\n",
    "    n = []\n",
    "    b = a\n",
    "    for i in b :\n",
    "        print(\" --------------------- \\n  your order list  \\n-------------------\\n \")\n",
    "        j = n.append(i)\n",
    "        print (\"your purchase {}. \" .format(i) )\n",
    "        \n",
    "while (True) :\n",
    "    \n",
    "    print (\"--------------------\\n   wellcome  \\n-----------------------\\n\")\n",
    "    print (\"press 1 for add \")\n",
    "    print (\"press 2 for quit \")\n",
    " \n",
    "    h = input(\"please enter your desire : \")\n",
    "    if h == \"1\" :\n",
    "       d = input(\" please add your product \")\n",
    "       market(d)\n",
    "   \n",
    "    else:\n",
    "        print(\"thanks for purschase\")\n",
    "        break\n",
    "          \n",
    "\n",
    "      "
   ]
  }
 ],
 "metadata": {
  "kernelspec": {
   "display_name": "Python 3",
   "language": "python",
   "name": "python3"
  },
  "language_info": {
   "codemirror_mode": {
    "name": "ipython",
    "version": 3
   },
   "file_extension": ".py",
   "mimetype": "text/x-python",
   "name": "python",
   "nbconvert_exporter": "python",
   "pygments_lexer": "ipython3",
   "version": "3.7.4"
  }
 },
 "nbformat": 4,
 "nbformat_minor": 2
}
