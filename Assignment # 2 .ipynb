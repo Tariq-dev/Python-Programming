{
 "cells": [
  {
   "cell_type": "code",
   "execution_count": 9,
   "metadata": {},
   "outputs": [
    {
     "name": "stdout",
     "output_type": "stream",
     "text": [
      "please enter marks for subject 100\n",
      "please enter marks for subject 100\n",
      "please enter marks for subject 100\n",
      "please enter marks for subject 100\n",
      "please enter marks for subject 50\n",
      " your total marks is  450\n",
      "90.0\n",
      "your grade is A+ with  percentage  90.0\n"
     ]
    }
   ],
   "source": [
    "sub = ['english','urdu','math','islamiat','computer']\n",
    "sum = 0\n",
    "for i in sub :\n",
    "    a = int(input('please enter marks for subject '))\n",
    "    sum = sum + a\n",
    "print (' your total marks is ', sum)\n",
    "\n",
    "x = float((sum / 500)* 100)\n",
    "print ( x )\n",
    "\n",
    "if x <= 100 :\n",
    "    if x >= 80 and x <= 100 :\n",
    "        print ('your grade is A+ with  percentage ' ,x)\n",
    "    elif x >= 70 and x < 80 :\n",
    "        print ('your grade is A with  percentage ' ,x)\n",
    "    elif x >= 60 and x < 70 :\n",
    "        print ('your grade is B with  percentage ' ,x)\n",
    "    elif x >= 50 and x < 60 :\n",
    "        print ('your grade is C with  percentage ' ,x)\n",
    "else :\n",
    "    print('total marks is only 500 please enter value less then 500 for calculation result ')"
   ]
  },
  {
   "cell_type": "code",
   "execution_count": 14,
   "metadata": {},
   "outputs": [
    {
     "name": "stdout",
     "output_type": "stream",
     "text": [
      "please provide a number for cheack even or odd ? 3\n",
      " your number is odd \n"
     ]
    }
   ],
   "source": [
    "val = int(input('please provide a number for cheack even or odd ? '))\n",
    "\n",
    "a = val % 2\n",
    "if a == 0 :\n",
    "    print ('your number is even ')\n",
    "else :\n",
    "    print (' your number is odd ')"
   ]
  },
  {
   "cell_type": "code",
   "execution_count": 25,
   "metadata": {},
   "outputs": [
    {
     "name": "stdout",
     "output_type": "stream",
     "text": [
      " Total value of list is =  4\n"
     ]
    }
   ],
   "source": [
    "a = ['tariq', 'shoaib', 'azhar','talha' ]\n",
    "\n",
    "sum = 0\n",
    "for i in a :\n",
    "    sum = sum + 1\n",
    "print (' Total value of list is = ',sum)\n",
    "    "
   ]
  },
  {
   "cell_type": "code",
   "execution_count": 58,
   "metadata": {},
   "outputs": [
    {
     "name": "stdout",
     "output_type": "stream",
     "text": [
      "please provide number of list3\n",
      "please provide any numeric value of 2\n",
      "please provide any numeric value of 2\n",
      "please provide any numeric value of 2\n",
      " your complete list is  [2, 2, 2]\n",
      "sum of all numeric value is   6\n"
     ]
    }
   ],
   "source": [
    "y = []\n",
    "\n",
    "g = int(input('please provide number of list'))\n",
    "x = 0\n",
    "for i in range(g) :\n",
    "    a = int(input('please provide any numeric value of ') )\n",
    "    x = x + a\n",
    "    y.append(a)\n",
    "    \n",
    "print(' your complete list is ',y)\n",
    "             \n",
    "print ('sum of all numeric value is  ',x)\n"
   ]
  },
  {
   "cell_type": "markdown",
   "metadata": {},
   "source": [
    "lst = []\n",
    "num = int(input('How many numbers: '))\n",
    "for n in range(num):\n",
    "    numbers = int(input('Enter number '))\n",
    "    lst.append(numbers)\n",
    "print(\"Maximum element in the list is :\", max(lst), \"\\nMinimum element in the list is :\", min(lst))"
   ]
  },
  {
   "cell_type": "code",
   "execution_count": 63,
   "metadata": {},
   "outputs": [
    {
     "name": "stdout",
     "output_type": "stream",
     "text": [
      "please provide a number for list index3\n",
      "please provide numeric value 5\n",
      "please provide numeric value 6\n",
      "please provide numeric value 9\n",
      " maximum number of list is  9\n"
     ]
    }
   ],
   "source": [
    "a = []\n",
    "b = int(input('please provide a number for list index'))\n",
    "for i in range(b) :\n",
    "    x = input('please provide numeric value ')\n",
    "    a.append(x)\n",
    "print(' maximum number of list is : ',max(a))\n"
   ]
  },
  {
   "cell_type": "code",
   "execution_count": 67,
   "metadata": {},
   "outputs": [
    {
     "name": "stdout",
     "output_type": "stream",
     "text": [
      "[1, 1, 2, 3]\n",
      "total of less then 5  in our list is :  7\n"
     ]
    }
   ],
   "source": [
    "a = [1,1,2,3,5,8,13,21,34,55,89]\n",
    "sum = 0\n",
    "b = []\n",
    "for i in a :\n",
    "    if i < 5 :\n",
    "        b.append(i)\n",
    "        sum = sum + i\n",
    "print(b)\n",
    "print('total of less then 5  in our list is : ',sum)"
   ]
  },
  {
   "cell_type": "code",
   "execution_count": null,
   "metadata": {},
   "outputs": [],
   "source": []
  }
 ],
 "metadata": {
  "kernelspec": {
   "display_name": "Python 3",
   "language": "python",
   "name": "python3"
  },
  "language_info": {
   "codemirror_mode": {
    "name": "ipython",
    "version": 3
   },
   "file_extension": ".py",
   "mimetype": "text/x-python",
   "name": "python",
   "nbconvert_exporter": "python",
   "pygments_lexer": "ipython3",
   "version": "3.7.4"
  }
 },
 "nbformat": 4,
 "nbformat_minor": 2
}
